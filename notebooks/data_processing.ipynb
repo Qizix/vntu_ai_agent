{
 "cells": [
  {
   "cell_type": "code",
   "execution_count": null,
   "id": "initial_id",
   "metadata": {
    "collapsed": true
   },
   "outputs": [],
   "source": [
    "import pandas as pd\n",
    "\n",
    "df = pd.read_json('Data/raw/results.json')  # Завантаження результатів парсера\n",
    "df.drop_duplicates(inplace=True)  # Видалення дублікатів\n",
    "df.dropna()\n",
    "df\n",
    "df['cleaned_main_text'] = df['cleaned_main_text'].str.replace(r'\\s+', ' ', regex=True)  # Прогалини\n"
   ]
  },
  {
   "metadata": {},
   "cell_type": "code",
   "outputs": [],
   "execution_count": null,
   "source": "",
   "id": "157d7d14628005bf"
  }
 ],
 "metadata": {
  "kernelspec": {
   "display_name": "Python 3",
   "language": "python",
   "name": "python3"
  },
  "language_info": {
   "codemirror_mode": {
    "name": "ipython",
    "version": 2
   },
   "file_extension": ".py",
   "mimetype": "text/x-python",
   "name": "python",
   "nbconvert_exporter": "python",
   "pygments_lexer": "ipython2",
   "version": "2.7.6"
  }
 },
 "nbformat": 4,
 "nbformat_minor": 5
}
